{
 "cells": [
  {
   "cell_type": "markdown",
   "id": "municipal-flush",
   "metadata": {},
   "source": [
    "# import"
   ]
  },
  {
   "cell_type": "code",
   "execution_count": 35,
   "id": "pressing-coral",
   "metadata": {},
   "outputs": [],
   "source": [
    "import json\n",
    "import numpy \n",
    "import cv2"
   ]
  },
  {
   "cell_type": "code",
   "execution_count": 41,
   "id": "inner-fourth",
   "metadata": {},
   "outputs": [],
   "source": [
    "class ImageAnno():\n",
    "    def __init__(self, file_name, height, width, image_id):\n",
    "        self.file_name = file_name\n",
    "        self.hight = height\n",
    "        self.width = width\n",
    "        self.id = image_id\n",
    "        self.annotations = []\n",
    "    \n",
    "    def update_anno(self, anno):\n",
    "        self.annotations.append(anno)\n",
    "    \n",
    "    def draw_bbox(self, folder_image_dir):\n",
    "        color = (255, 255, 255)\n",
    "        thickness = 3\n",
    "        \n",
    "        fontScale = 0.5\n",
    "        font = cv2.FONT_HERSHEY_SIMPLEX\n",
    "        thickness_text =1\n",
    "        color_text = (255, 0, 0)\n",
    "\n",
    "        image = cv2.imread('{}/{}'.format(folder_image_dir, self.file_name))\n",
    "        \n",
    "        for anno in self.annotations:\n",
    "            class_id, xmin, ymin, w, h = anno\n",
    "            xmax = xmin + w\n",
    "            ymax = ymin + h\n",
    "            \n",
    "            start_point = (xmin, ymin)\n",
    "            end_point = (xmax, ymax)\n",
    "            \n",
    "            #draw bounding box\n",
    "            image = cv2.rectangle(image, start_point, end_point, color, thickness)\n",
    "            \n",
    "            #draw class\n",
    "            org = (xmin, ymin)\n",
    "            image = cv2.putText(image, '{}'.format(class_id) , org, font, fontScale, color_text, thickness_text, cv2.LINE_AA)\n",
    "            \n",
    "        return image\n",
    "            "
   ]
  },
  {
   "cell_type": "code",
   "execution_count": 4,
   "id": "burning-pharmacy",
   "metadata": {},
   "outputs": [],
   "source": [
    "train_json_dir = '/media/sonnh/ssd/data/zalo_2020/traffic_train/train_traffic_sign_dataset.json'\n",
    "with open(train_json_dir, 'r') as train_dir:\n",
    "    data_train = json.load(train_dir)"
   ]
  },
  {
   "cell_type": "code",
   "execution_count": 5,
   "id": "caroline-reporter",
   "metadata": {},
   "outputs": [
    {
     "data": {
      "text/plain": [
       "dict_keys(['info', 'images', 'annotations', 'categories'])"
      ]
     },
     "execution_count": 5,
     "metadata": {},
     "output_type": "execute_result"
    }
   ],
   "source": [
    "data_train.keys()"
   ]
  },
  {
   "cell_type": "code",
   "execution_count": 6,
   "id": "composed-agent",
   "metadata": {},
   "outputs": [
    {
     "data": {
      "text/plain": [
       "{'description': 'Traffic Sign Dataset',\n",
       " 'url': '',\n",
       " 'version': '0.1.0',\n",
       " 'year': 2020,\n",
       " 'contributor': 'Zalo.ai',\n",
       " 'date_created': '2020-10-29 10:42:05.806296'}"
      ]
     },
     "execution_count": 6,
     "metadata": {},
     "output_type": "execute_result"
    }
   ],
   "source": [
    "data_train['info']"
   ]
  },
  {
   "cell_type": "code",
   "execution_count": 10,
   "id": "working-berkeley",
   "metadata": {},
   "outputs": [
    {
     "data": {
      "text/plain": [
       "{'file_name': '4289.png',\n",
       " 'height': 626,\n",
       " 'width': 1622,\n",
       " 'id': 4289,\n",
       " 'street_id': 36}"
      ]
     },
     "execution_count": 10,
     "metadata": {},
     "output_type": "execute_result"
    }
   ],
   "source": [
    "data_train['images'][1000]"
   ]
  },
  {
   "cell_type": "code",
   "execution_count": 12,
   "id": "thrown-issue",
   "metadata": {},
   "outputs": [
    {
     "data": {
      "text/plain": [
       "{'segmentation': [],\n",
       " 'area': 342,\n",
       " 'iscrowd': 0,\n",
       " 'image_id': 3,\n",
       " 'bbox': [880, 333, 19, 18],\n",
       " 'category_id': 2,\n",
       " 'id': 0}"
      ]
     },
     "execution_count": 12,
     "metadata": {},
     "output_type": "execute_result"
    }
   ],
   "source": [
    "data_train['annotations'][0]"
   ]
  },
  {
   "cell_type": "code",
   "execution_count": 14,
   "id": "collected-mounting",
   "metadata": {},
   "outputs": [
    {
     "data": {
      "text/plain": [
       "[{'supercategory': 'Cấm ngược chiều', 'id': 1, 'name': 'Cấm ngược chiều'},\n",
       " {'supercategory': 'Cấm dừng và đỗ', 'id': 2, 'name': 'Cấm dừng và đỗ'},\n",
       " {'supercategory': 'Cấm rẽ', 'id': 3, 'name': 'Cấm rẽ'},\n",
       " {'supercategory': 'Giới hạn tốc độ', 'id': 4, 'name': 'Giới hạn tốc độ'},\n",
       " {'supercategory': 'Cấm còn lại', 'id': 5, 'name': 'Cấm còn lại'},\n",
       " {'supercategory': 'Nguy hiểm', 'id': 6, 'name': 'Nguy hiểm'},\n",
       " {'supercategory': 'Hiệu lệnh', 'id': 7, 'name': 'Hiệu lệnh'}]"
      ]
     },
     "execution_count": 14,
     "metadata": {},
     "output_type": "execute_result"
    }
   ],
   "source": [
    "data_train['categories']"
   ]
  },
  {
   "cell_type": "code",
   "execution_count": 29,
   "id": "olympic-rider",
   "metadata": {},
   "outputs": [],
   "source": [
    "def read_json(train_json_dir):\n",
    "    \n",
    "    with open(train_json_dir, 'r') as train_dir:\n",
    "        data_train = json.load(train_dir)\n",
    "\n",
    "    data = {}\n",
    "\n",
    "    for image_info in data_train['images']:\n",
    "    #     {'file_name': '4289.png',\n",
    "    #      'height': 626,\n",
    "    #      'width': 1622,\n",
    "    #      'id': 4289,\n",
    "    #      'street_id': 36}\n",
    "        image_id = image_info['id']\n",
    "        data[image_id] = ImageAnno(image_info['file_name'],\n",
    "                            image_info['height'],\n",
    "                            image_info['width'],\n",
    "                            image_info['id']\n",
    "                            )\n",
    "\n",
    "    for anno in data_train['annotations']:\n",
    "#     {'segmentation': [],\n",
    "#      'area': 342,\n",
    "#      'iscrowd': 0,\n",
    "#      'image_id': 3,\n",
    "#      'bbox': [880, 333, 19, 18],\n",
    "#      'category_id': 2,\n",
    "#      'id': 0}\n",
    "        image_id = anno['image_id']\n",
    "        category_id = anno['category_id']\n",
    "        bbox = anno['bbox']\n",
    "        anno_info = [category_id] + bbox\n",
    "        data[image_id].update_anno(anno_info)\n",
    "    \n",
    "    return data"
   ]
  },
  {
   "cell_type": "code",
   "execution_count": 40,
   "id": "operational-participation",
   "metadata": {},
   "outputs": [
    {
     "data": {
      "text/plain": [
       "True"
      ]
     },
     "execution_count": 40,
     "metadata": {},
     "output_type": "execute_result"
    }
   ],
   "source": [
    "train_json_dir = '/media/sonnh/ssd/data/zalo_2020/traffic_train/train_traffic_sign_dataset.json'\n",
    "\n",
    "data = read_json(train_json_dir)\n",
    "\n",
    "image_after_draw = data[3].draw_bbox('/media/sonnh/ssd/data/zalo_2020/traffic_train/images')\n",
    "folder_test_dir = '/media/sonnh/Object_detection_toolbox/test'\n",
    "cv2.imwrite('{}/{}'.format(folder_test_dir, '3_after_draw.jpg'), image_after_draw)"
   ]
  }
 ],
 "metadata": {
  "kernelspec": {
   "display_name": "Python 3",
   "language": "python",
   "name": "python3"
  },
  "language_info": {
   "codemirror_mode": {
    "name": "ipython",
    "version": 3
   },
   "file_extension": ".py",
   "mimetype": "text/x-python",
   "name": "python",
   "nbconvert_exporter": "python",
   "pygments_lexer": "ipython3",
   "version": "3.6.9"
  }
 },
 "nbformat": 4,
 "nbformat_minor": 5
}
